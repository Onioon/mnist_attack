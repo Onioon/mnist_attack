{
 "cells": [
  {
   "cell_type": "code",
   "execution_count": null,
   "metadata": {},
   "outputs": [],
   "source": [
    "import torch\n",
    "from torch.utils import data\n",
    "from torch.utils.data import DataLoader, Dataset\n",
    "from torch.utils.data.sampler import WeightedRandomSampler\n",
    "from torchvision import datasets, transforms\n",
    "import matplotlib.pyplot as plt\n"
   ]
  },
  {
   "cell_type": "code",
   "execution_count": null,
   "metadata": {},
   "outputs": [],
   "source": [
    "def get_mnist_biased(batch_size, data_root, bias_portion):\n",
    "    print('Building Biased Mnist dataloader...')\n",
    "    ds = []\n",
    "    train_dataset = datasets.MNIST(root=data_root, train=True, download=True,\n",
    "                                    transform = transforms.Compose([\n",
    "                                        transforms.ToTensor(),\n",
    "                                        transforms. Normalize((0.1307,),(0.3081,)) \n",
    "                                    ]))   #得到原始Mnist数据集\n",
    "    sampler = get_bin_sampler(train_dataset.targets, bias_portion) \n",
    "    train_loader = DataLoader(train_dataset, batch_size=batch_size, sampler=sampler)\n",
    "    ds.append(train_loader)\n",
    "\n",
    "    test_dataset = datasets.MNIST(root=data_root, train=False, download=True,\n",
    "                                    transform = transforms.Compose([\n",
    "                                        transforms.ToTensor(),\n",
    "                                        transforms. Normalize((0.1307,),(0.3081,)) \n",
    "                                    ]))   #得到原始Mnist数据集\n",
    "    sampler = get_bin_sampler(test_dataset.targets, bias_portion) \n",
    "    test_loader = DataLoader(test_dataset, batch_size=batch_size, sampler=sampler)\n",
    "    ds.append(test_loader)\n",
    "    # ds = ds[0] if len(ds) == 1 else ds\n",
    "    return ds"
   ]
  },
  {
   "cell_type": "code",
   "execution_count": null,
   "metadata": {},
   "outputs": [],
   "source": [
    "def get_bin_sampler(targets, bias_portion):\n",
    "    # 根据dataset的标签数据来获取给dataloader按权重装载数据所需的sampler\n",
    "    # bias_number为想要改变采样比例的0-9的数字，bias_portion为1-99的数，标志这个数字占总样本数的百分比\n",
    "    class_count = torch.tensor(\n",
    "        [(targets == t).sum() for t in torch.unique(targets, sorted=True)]) # 统计0 1两个class的样本总数\n",
    "    class_weights = (class_count[0]+class_count[1])/class_count # 取样本数倒数作为权重，可使每个class的采样概率均等\n",
    "    class_weights[0] *= bias_portion / (100-bias_portion) # 将改变的class的权重放大\n",
    "    for i in range(2, 10):\n",
    "        class_weights[i] = 0\n",
    "    sample_weights = torch.tensor([class_weights[t] for t in targets])\n",
    "    sampler = WeightedRandomSampler(sample_weights, len(targets))\n",
    "    return sampler"
   ]
  },
  {
   "cell_type": "code",
   "execution_count": null,
   "metadata": {},
   "outputs": [],
   "source": [
    "def test_data():    \n",
    "    train_loader, test_loader = dataset.get_mnist_biased(batch_size=1, data_root='data', bias_portion=80)\n",
    "    print('number={}  '.format(i), end='')\n",
    "    figure = plt.figure(figsize=(8, 8))\n",
    "    cols, rows = 8, 5\n",
    "    for batch_idx, (data, target) in enumerate(train_loader):\n",
    "        figure.add_subplot(rows, cols, batch_idx+1)\n",
    "        plt.title(target.numpy())\n",
    "        plt.axis(\"off\")\n",
    "        plt.imshow(data.squeeze(), cmap=\"gray\")\n",
    "        if batch_idx >= 39:\n",
    "            break\n",
    "    plt.show()"
   ]
  },
  {
   "cell_type": "code",
   "execution_count": null,
   "metadata": {},
   "outputs": [],
   "source": []
  }
 ],
 "metadata": {
  "kernelspec": {
   "display_name": "Python 3",
   "language": "python",
   "name": "python3"
  },
  "language_info": {
   "codemirror_mode": {
    "name": "ipython",
    "version": 3
   },
   "file_extension": ".py",
   "mimetype": "text/x-python",
   "name": "python",
   "nbconvert_exporter": "python",
   "pygments_lexer": "ipython3",
   "version": "3.8.2"
  }
 },
 "nbformat": 4,
 "nbformat_minor": 4
}
